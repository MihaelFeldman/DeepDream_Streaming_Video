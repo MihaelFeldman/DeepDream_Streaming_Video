{
 "cells": [
  {
   "cell_type": "markdown",
   "metadata": {
    "colab_type": "text",
    "id": "xu2SVpFJjmJr"
   },
   "source": [
    "# DeepDreaming with TensorFlow"
   ]
  },
  {
   "cell_type": "markdown",
   "metadata": {},
   "source": [
    "### Rule of thumb for increasing/decreasing accuracy and processing speeds\n",
    "```\n",
    "t_obj_filter: 0-144 available. This does not affect timing\n",
    "iter_n: Iterations to run deep dream. Lower is faster\n",
    "step: TODO\n",
    "octave_n: Number of field of views to split apart the picture, Lower is faster\n",
    "octave_scale: I think this is the amount of overlap, higher is faster\n",
    "```"
   ]
  },
  {
   "cell_type": "markdown",
   "metadata": {},
   "source": [
    "### Import in the video stream"
   ]
  },
  {
   "cell_type": "code",
   "execution_count": null,
   "metadata": {
    "collapsed": false
   },
   "outputs": [],
   "source": [
    "# boilerplate code\n",
    "from __future__ import print_function\n",
    "import os\n",
    "from io import BytesIO\n",
    "import numpy as np\n",
    "from functools import partial\n",
    "import PIL.Image\n",
    "from IPython.display import clear_output, Image, display, HTML\n",
    "\n",
    "import tensorflow as tf\n",
    "\n",
    "#Added imports\n",
    "import time\n",
    "import uuid\n",
    "\n",
    "#Use CPU only --> Temporary Flag\n",
    "os.environ['CUDA_VISIBLE_DEVICES']=\"\""
   ]
  },
  {
   "cell_type": "code",
   "execution_count": null,
   "metadata": {
    "collapsed": false
   },
   "outputs": [],
   "source": [
    "#Set the absolute fil path towards the images to work on\n",
    "os.environ['DD_STREAM']=os.path.join(os.getenv('HOME'), 'src/DeepDream_Streaming_Video')\n",
    "image_dir= os.path.join(os.getenv('DD_STREAM'), 'data', 'trains_to_classify')\n",
    "print (image_dir)\n",
    "image_files = [f for f in os.listdir(image_dir) if os.path.isfile(os.path.join(image_dir, f))]"
   ]
  },
  {
   "cell_type": "code",
   "execution_count": null,
   "metadata": {
    "collapsed": false
   },
   "outputs": [],
   "source": [
    "#!wget https://storage.googleapis.com/download.tensorflow.org/models/inception5h.zip && unzip inception5h.zip"
   ]
  },
  {
   "cell_type": "markdown",
   "metadata": {},
   "source": [
    "### Create the deep dream conversion class"
   ]
  },
  {
   "cell_type": "code",
   "execution_count": null,
   "metadata": {
    "collapsed": false
   },
   "outputs": [],
   "source": [
    "class DeepDream(object):\n",
    "    \"\"\"\n",
    "    TODO: Add docstring\n",
    "    \"\"\"\n",
    "\n",
    "    def __init__(self,\n",
    "                 model_fn='tensorflow_inception_graph.pb',\n",
    "                 layer='mixed4d_3x3_bottleneck_pre_relu'):\n",
    "        self.load_graph(model_fn)\n",
    "        self.k5x5=self.setup_k()\n",
    "        self.layer=layer\n",
    "        \n",
    "    def load_graph(self, model_fn='tensorflow_inception_graph.pb'):\n",
    "        # creating TensorFlow session and loading the model\n",
    "        self.graph = tf.Graph()\n",
    "        self.sess = tf.InteractiveSession(graph=self.graph)\n",
    "        with tf.gfile.FastGFile(model_fn, 'rb') as f:\n",
    "            graph_def = tf.GraphDef()\n",
    "            graph_def.ParseFromString(f.read())\n",
    "        self.t_input = tf.placeholder(np.float32, name='input') # define the input tensor\n",
    "        # Unclear why imagenet_mean variable standard in deep dream\n",
    "        imagenet_mean = 117.0 \n",
    "        t_preprocessed = tf.expand_dims(self.t_input-imagenet_mean, 0)\n",
    "        tf.import_graph_def(graph_def, {'input':t_preprocessed})\n",
    "        \n",
    "    def setup_k(self):\n",
    "        k = np.float32([1,4,6,4,1])\n",
    "        k = np.outer(k, k)\n",
    "        return k[:,:,None,None]/k.sum()*np.eye(3, dtype=np.float32)\n",
    "        \n",
    "    def showarray(self, a, fmt='jpeg'):\n",
    "        a = np.uint8(np.clip(a, 0, 1)*255)\n",
    "        f = BytesIO()\n",
    "        PIL.Image.fromarray(a).save(f, fmt)\n",
    "        display(Image(data=f.getvalue()))\n",
    "        \n",
    "    def visstd(self, a, s=0.1):\n",
    "        '''Normalize the image range for visualization'''\n",
    "        return (a-a.mean())/max(a.std(), 1e-4)*s + 0.5\n",
    "\n",
    "    def T(self, layer):\n",
    "        '''Helper for getting layer output tensor'''\n",
    "        return self.graph.get_tensor_by_name(\"import/%s:0\"%self.layer)\n",
    "    \n",
    "    def tffunc(self, *argtypes):\n",
    "        '''\n",
    "        Helper that transforms TF-graph generating function into a regular one.\n",
    "        See \"resize\" function below.\n",
    "        '''\n",
    "        placeholders = list(map(tf.placeholder, argtypes))\n",
    "        def wrap(f):\n",
    "            out = f(*placeholders)\n",
    "            def wrapper(*args, **kw):\n",
    "                return out.eval(dict(zip(placeholders, args)), session=kw.get('session'))\n",
    "            return wrapper\n",
    "        return wrap\n",
    "\n",
    "    # Helper function that uses TF to resize an image\n",
    "    def resize(self, img, size):\n",
    "        img = tf.expand_dims(img, 0)\n",
    "        return tf.image.resize_bilinear(img, size)[0,:,:,:]\n",
    "\n",
    "    def calc_grad_tiled(self, img, t_grad, tile_size=512):\n",
    "        '''Compute the value of tensor t_grad over the image in a tiled way.\n",
    "        Random shifts are applied to the image to blur tile boundaries over \n",
    "        multiple iterations.'''\n",
    "        sz = tile_size\n",
    "        h, w = img.shape[:2]\n",
    "        sx, sy = np.random.randint(sz, size=2)\n",
    "        img_shift = np.roll(np.roll(img, sx, 1), sy, 0)\n",
    "        grad = np.zeros_like(img)\n",
    "        for y in range(0, max(h-sz//2, sz),sz):\n",
    "            for x in range(0, max(w-sz//2, sz),sz):\n",
    "                sub = img_shift[y:y+sz,x:x+sz]\n",
    "                g = self.sess.run(t_grad, {self.t_input:sub})\n",
    "                grad[y:y+sz,x:x+sz] = g\n",
    "        return np.roll(np.roll(grad, -sx, 1), -sy, 0)\n",
    "\n",
    "    def lap_split(self, img):\n",
    "        '''Split the image into lo and hi frequency components'''\n",
    "        with tf.name_scope('split'):\n",
    "            lo = tf.nn.conv2d(img, self.k5x5, [1,2,2,1], 'SAME')\n",
    "            lo2 = tf.nn.conv2d_transpose(lo, self.k5x5*4, tf.shape(img), [1,2,2,1])\n",
    "            hi = img-lo2\n",
    "        return lo, hi\n",
    "\n",
    "    def lap_split_n(self, img, n):\n",
    "        '''Build Laplacian pyramid with n splits'''\n",
    "        levels = []\n",
    "        for i in range(n):\n",
    "            img, hi = self.lap_split(img)\n",
    "            levels.append(hi)\n",
    "        levels.append(img)\n",
    "        return levels[::-1]\n",
    "\n",
    "    def lap_merge(self, levels):\n",
    "        '''Merge Laplacian pyramid'''\n",
    "        img = levels[0]\n",
    "        for hi in levels[1:]:\n",
    "            with tf.name_scope('merge'):\n",
    "                img = tf.nn.conv2d_transpose(img, self.k5x5*4, tf.shape(hi), [1,2,2,1]) + hi\n",
    "        return img\n",
    "\n",
    "    def normalize_std(self, img, eps=1e-10):\n",
    "        '''Normalize image by making its standard deviation = 1.0'''\n",
    "        with tf.name_scope('normalize'):\n",
    "            std = tf.sqrt(tf.reduce_mean(tf.square(img)))\n",
    "            return img/tf.maximum(std, eps)\n",
    "\n",
    "    def lap_normalize(self, img, scale_n=4):\n",
    "        '''Perform the Laplacian pyramid normalization.'''\n",
    "        img = tf.expand_dims(img,0)\n",
    "        tlevels = sel.flap_split_n(img, scale_n)\n",
    "        tlevels = list(map(self.normalize_std, tlevels))\n",
    "        out = self.lap_merge(tlevels)\n",
    "        return out[0,:,:,:]\n",
    "    \n",
    "    def render_deepdream(self,t_obj, img0,\n",
    "                         iter_n=10, step=1.5, \n",
    "                         octave_n=4, octave_scale=1.4,\n",
    "                         show_image=False):\n",
    "        t_score = tf.reduce_mean(t_obj) # defining the optimization objective\n",
    "        t_grad = tf.gradients(t_score, self.t_input)[0] # behold the power of automatic differentiation!\n",
    "\n",
    "        # split the image into a number of octaves\n",
    "        img = img0\n",
    "        octaves = []\n",
    "        for i in range(octave_n-1):\n",
    "            hw = img.shape[:2]\n",
    "            lo = self.resize(img, np.int32(np.float32(hw)/octave_scale))\n",
    "            hi = img-self.resize(lo, hw)\n",
    "            #img = lo\n",
    "            img = lo.eval(session=self.sess)\n",
    "            octaves.append(hi)\n",
    "\n",
    "        # generate details octave by octave\n",
    "        for octave in range(octave_n):\n",
    "            if octave>0:\n",
    "                hi = octaves[-octave]\n",
    "                img = (self.resize(img, hi.shape[:2])+hi).eval(session=self.sess)\n",
    "                \n",
    "            for i in range(iter_n):\n",
    "                g = self.calc_grad_tiled(img, t_grad)\n",
    "                img += g*(step / (np.abs(g).mean()+1e-7))\n",
    "                print('.',end = ' ')\n",
    "            clear_output()\n",
    "            #Added as a flag to not have to show the image every iteration\n",
    "            if show_image == True:\n",
    "                self.showarray(img/255.0)\n",
    "        return img/255.0\n",
    "    \n",
    "    def load_parameters_run_deep_dream_return_image(self,\n",
    "                image,\n",
    "                name=uuid.uuid4(),\n",
    "                t_obj_filter= 139,\n",
    "                iter_n=10,\n",
    "                step=1.5,\n",
    "                octave_n=4,\n",
    "                octave_scale=1.4,\n",
    "                show_image=False):\n",
    "        '''\n",
    "        Image must be an np_float32 datatype\n",
    "        '''\n",
    "        assert isinstance(image,np.ndarray)\n",
    "        start_time=time.time()\n",
    "        output_image=self.render_deepdream(\n",
    "                              self.T(self.layer)[:,:,:,t_obj_filter],\n",
    "                              image,\n",
    "                              iter_n=int(iter_n),\n",
    "                              step=int(step),\n",
    "                              octave_n=int(octave_n),\n",
    "                              octave_scale=float(octave_scale),\n",
    "                              show_image=show_image)\n",
    "        print ('Processing time:',time.time()-start_time)\n",
    "        return output_image\n",
    "    \n",
    "def load_image_into_memory_from_file(filename='pilatus800.jpg',show_image=False):\n",
    "    '''\n",
    "    Load an image into memory as a numpy.ndarray\n",
    "    '''\n",
    "    img0 = PIL.Image.open(filename)\n",
    "    img = np.float32(img0)\n",
    "    if show_image==True:\n",
    "        self.showarray(img)\n",
    "    return img"
   ]
  },
  {
   "cell_type": "code",
   "execution_count": null,
   "metadata": {
    "collapsed": false
   },
   "outputs": [],
   "source": [
    "deepdream = DeepDream(model_fn='tensorflow_inception_graph.pb',\n",
    "                      layer='mixed4d_3x3_bottleneck_pre_relu')"
   ]
  },
  {
   "cell_type": "code",
   "execution_count": null,
   "metadata": {
    "collapsed": false
   },
   "outputs": [],
   "source": [
    "img=load_image_into_memory_from_file(filename='pilatus800.jpg',show_image=False)"
   ]
  },
  {
   "cell_type": "code",
   "execution_count": null,
   "metadata": {
    "collapsed": false
   },
   "outputs": [],
   "source": [
    "output_image=deepdream.load_parameters_run_deep_dream_return_image(img,octave_n=4,show_image=True)"
   ]
  },
  {
   "cell_type": "code",
   "execution_count": null,
   "metadata": {
    "collapsed": true
   },
   "outputs": [],
   "source": []
  },
  {
   "cell_type": "code",
   "execution_count": null,
   "metadata": {
    "collapsed": true
   },
   "outputs": [],
   "source": []
  }
 ],
 "metadata": {
  "anaconda-cloud": {},
  "colab": {
   "default_view": {},
   "name": "deepdream2.ipynb",
   "provenance": [],
   "version": "0.3.2",
   "views": {}
  },
  "kernelspec": {
   "display_name": "Python [conda env:tf_v5]",
   "language": "python",
   "name": "conda-env-tf_v5-py"
  },
  "language_info": {
   "codemirror_mode": {
    "name": "ipython",
    "version": 3
   },
   "file_extension": ".py",
   "mimetype": "text/x-python",
   "name": "python",
   "nbconvert_exporter": "python",
   "pygments_lexer": "ipython3",
   "version": "3.5.2"
  }
 },
 "nbformat": 4,
 "nbformat_minor": 0
}
